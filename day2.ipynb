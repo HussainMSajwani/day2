{
 "cells": [
  {
   "cell_type": "code",
   "execution_count": 1,
   "id": "a421ae8b",
   "metadata": {},
   "outputs": [
    {
     "name": "stdout",
     "output_type": "stream",
     "text": [
      "[('x', '<i2'), ('y', '<i2'), ('p', '?'), ('t', '<f8')]\n",
      "We have 1786990 events\n",
      "Our sequence spans 4.999997000000008 seconds.\n"
     ]
    }
   ],
   "source": [
    "import h5py\n",
    "import numpy as np\n",
    "\n",
    "\n",
    "H, W = 480, 640\n",
    "\n",
    "drone_data = h5py.File('/home/aric/adasi/data/2025-07-17-12-49-53_full_testing.h5', 'r')\n",
    "shapes_data = h5py.File('/home/aric/adasi/data/shapes.h5', 'r')\n",
    "\n",
    "drone_events = drone_data['events_data'][:]\n",
    "shapes_events = shapes_data['events_data'][:]\n",
    "\n",
    "print(drone_events.dtype)\n",
    "print(\"We have {} events\".format(len(drone_events)))\n",
    "print(f\"Our sequence spans {drone_events['t'][-1] - drone_events['t'][0]} seconds.\")"
   ]
  },
  {
   "cell_type": "code",
   "execution_count": 2,
   "id": "d176dc96",
   "metadata": {},
   "outputs": [],
   "source": [
    "# We will use this function later to visualize the events\n",
    "from matplotlib.animation import FuncAnimation\n",
    "import matplotlib.pyplot as plt\n",
    "%matplotlib qt\n",
    "\n",
    "def animate_events(sliced, H, W):\n",
    "    fig, ax = plt.subplots()\n",
    "    sc = ax.scatter([], [], c=[], s=1, cmap='coolwarm')\n",
    "    ax.set_xlim(0, W)\n",
    "    ax.set_ylim(0, H)\n",
    "\n",
    "    def update(i):\n",
    "        sc.set_offsets(np.column_stack((sliced[i]['x'], sliced[i]['y'])))\n",
    "        sc.set_array(sliced[i]['p'])\n",
    "        return sc,\n",
    "\n",
    "    return fig, update\n",
    "\n",
    "def animate_seq_frame(frames):\n",
    "    fig, ax = plt.subplots()\n",
    "    im = ax.imshow(frames[0], cmap='gray')\n",
    "\n",
    "    def update(i):\n",
    "        im.set_array(frames[i])\n",
    "        return im,\n",
    "\n",
    "    return fig, update\n"
   ]
  },
  {
   "cell_type": "markdown",
   "id": "5816b698",
   "metadata": {},
   "source": [
    "# Tonic\n",
    "\n",
    "Rather than manually slicing our event stream, we will now use tonic to slice our stream into 30ms slices. Tonic has similar functions for other slicing methods discussed in the lecture."
   ]
  },
  {
   "cell_type": "code",
   "execution_count": 3,
   "id": "73a21f2a",
   "metadata": {},
   "outputs": [
    {
     "name": "stdout",
     "output_type": "stream",
     "text": [
      "333\n",
      "Our sample slice has 60113 events.\n",
      "Our sample slice spans 0.029858112335205078 seconds.\n"
     ]
    }
   ],
   "source": [
    "import tonic\n",
    "\n",
    "slicer = tonic.slicers.SliceByTime(30e-3)   # 30 ms slices\n",
    "\n",
    "sliced_events, _ = slicer.slice(shapes_events, 0)\n",
    "\n",
    "print(len(sliced_events))\n",
    "\n",
    "sample_slice = sliced_events[0]\n",
    "print(f\"Our sample slice has {len(sample_slice)} events.\")\n",
    "print(f\"Our sample slice spans {sample_slice['t'][-1] - sample_slice['t'][0]} seconds.\")"
   ]
  },
  {
   "cell_type": "markdown",
   "id": "87db9518",
   "metadata": {},
   "source": [
    "That easy! `sliced_events` is now a list of 30ms time windows. Let's visualize this data using the animation functions above."
   ]
  },
  {
   "cell_type": "code",
   "execution_count": 4,
   "id": "14e027e4",
   "metadata": {},
   "outputs": [],
   "source": [
    "fig, update = animate_events(sliced_events, H, W)\n",
    "ani = FuncAnimation(fig, update, frames=len(sliced_events), interval=30)"
   ]
  },
  {
   "cell_type": "markdown",
   "id": "78be3a41",
   "metadata": {},
   "source": [
    "In this way we have created all the frames into the sequence"
   ]
  },
  {
   "cell_type": "markdown",
   "id": "155c1721",
   "metadata": {},
   "source": [
    "# Denoising\n",
    "\n",
    "In the lecture today you learned about two types of noise filters for event cameras.\n",
    "\n",
    "- BAF, most basic filter\n",
    "- YNoise filter\n",
    "\n",
    "Below you will find the implementation of the YNoise filter. Run it and display the output. Compare to the raw noisy input."
   ]
  },
  {
   "cell_type": "code",
   "execution_count": null,
   "id": "aeded6a5",
   "metadata": {},
   "outputs": [],
   "source": [
    "import numpy as np\n",
    "from tqdm.auto import tqdm\n",
    "\n",
    "class YNoiseFilter:\n",
    "    \"\"\"\n",
    "    Spatio-temporal density filter for event streams.\n",
    "    Keep event e=(x,y,p,t) iff at least `threshold` neighbors (same polarity)\n",
    "    in the N×N neighborhood fired within the last `delta_t` microseconds.\n",
    "    \"\"\"\n",
    "\n",
    "    def __init__(self, size_w=346, size_h=260, delta_t=0.01, N=3, threshold=2):\n",
    "        assert N % 2 == 1, \"N must be odd (e.g., 3, 5, 7, ...)\"\n",
    "        self.W = int(size_w)\n",
    "        self.H = int(size_h)\n",
    "        self.delta_t = (delta_t)      # seconds\n",
    "        self.N = int(N)                  # neighborhood size\n",
    "        self.m = self.N // 2             # center index\n",
    "        self.threshold = int(threshold)\n",
    "\n",
    "        # last_ts[y, x, pol_idx], where pol_idx=0 for p<0, 1 for p>0\n",
    "        self.last_ts = np.full((self.H, self.W, 2), np.int64(-(1 << 62)), dtype=np.int64)\n",
    "\n",
    "    @staticmethod\n",
    "    def _pol_index(p):\n",
    "        # map polarity to index: negatives -> 0, positives/nonneg -> 1\n",
    "        return 1 if p > 0 else 0\n",
    "\n",
    "    def update_matrix(self, e):\n",
    "        \"\"\"Update last timestamp memory at (x,y) for polarity p.\"\"\"\n",
    "        x = int(e['x']); y = int(e['y']); p = int(e['p']); t = int(e['t'])\n",
    "        pol_idx = self._pol_index(p)\n",
    "        if 0 <= x < self.W and 0 <= y < self.H:\n",
    "            self.last_ts[y, x, pol_idx] = t\n",
    "\n",
    "    def calculate_density(self, e):\n",
    "        \"\"\"Count same-polarity neighbors in N×N whose timestamps are within delta_t.\"\"\"\n",
    "        x = int(e['x']); y = int(e['y']); p = int(e['p']); t = int(e['t'])\n",
    "        pol_idx = self._pol_index(p)\n",
    "\n",
    "        # Neighborhood bounds (clamped to image)\n",
    "        u0 = max(0, x - self.m); u1 = min(self.W, x + self.m + 1)\n",
    "        v0 = max(0, y - self.m); v1 = min(self.H, y + self.m + 1)\n",
    "\n",
    "        cnt = 0\n",
    "        for v in range(v0, v1):\n",
    "            for u in range(u0, u1):\n",
    "                if u == x and v == y:\n",
    "                    continue  # exclude center\n",
    "                # same-polarity recency check\n",
    "                if t - self.last_ts[v, u, pol_idx] <= self.delta_t:\n",
    "                    cnt += 1\n",
    "        return cnt\n",
    "    \n",
    "    def is_noise(self, e):\n",
    "        self.update_matrix(e)\n",
    "        return self.calculate_density(e) < self.threshold\n",
    "\n",
    "    def filter_events(self, events):\n",
    "        \"\"\"\n",
    "        Filter events (structured ndarray with fields 'x','y','p','t').\n",
    "        Returns a structured ndarray of kept events (same dtype).\n",
    "        \"\"\"\n",
    "        kept = []\n",
    "        for e in tqdm(events):\n",
    "            if not self.is_noise(e):\n",
    "                kept.append(e)\n",
    "\n",
    "        if isinstance(events, np.ndarray):\n",
    "            return np.array(kept, dtype=events.dtype)\n",
    "        return kept"
   ]
  },
  {
   "cell_type": "markdown",
   "id": "3602a34d",
   "metadata": {},
   "source": [
    "Here is how you use the YNoise filter"
   ]
  },
  {
   "cell_type": "code",
   "execution_count": 6,
   "id": "c2185688",
   "metadata": {},
   "outputs": [
    {
     "data": {
      "application/vnd.jupyter.widget-view+json": {
       "model_id": "e59f19df1047408eba34075e9b1f0bae",
       "version_major": 2,
       "version_minor": 0
      },
      "text/plain": [
       "  0%|          | 0/28855004 [00:00<?, ?it/s]"
      ]
     },
     "metadata": {},
     "output_type": "display_data"
    },
    {
     "name": "stdout",
     "output_type": "stream",
     "text": [
      "Filtered out 6143749 events.\n"
     ]
    }
   ],
   "source": [
    "n_events_before = len(shapes_events)\n",
    "\n",
    "\n",
    "ynoise_filter = YNoiseFilter(size_w=W, size_h=H, delta_t=0.1, N=3, threshold=7)\n",
    "filtered_events = ynoise_filter.filter_events(shapes_events)\n",
    "\n",
    "n_events_after = len(filtered_events)\n",
    "print(f\"Filtered out {n_events_before - n_events_after} events.\")\n",
    "\n",
    "sliced_events, _ = slicer.slice(filtered_events, 0)\n",
    "\n",
    "fig, update = animate_events(sliced_events, H, W)\n",
    "ani = FuncAnimation(fig, update, frames=len(sliced_events), interval=30)"
   ]
  },
  {
   "cell_type": "markdown",
   "id": "dfcf3ea3",
   "metadata": {},
   "source": [
    "Your job now to try and implement the simpler Background activity filter. You can reuse some of the same logic as found in the YNoise filter."
   ]
  },
  {
   "cell_type": "code",
   "execution_count": 12,
   "id": "edb0bc0b",
   "metadata": {},
   "outputs": [],
   "source": [
    "class BAFNoiseFilter:\n",
    "    \"\"\"Background Activity Filter (BAF) for event streams.\"\"\"\n",
    "\n",
    "    def __init__(self, size_w=346, size_h=260, delta_t=0.2, N=3):\n",
    "        self.W = int(size_w)\n",
    "        self.H = int(size_h)\n",
    "        self.delta_t = (delta_t)      # seconds\n",
    "        self.N = int(N)                  # neighborhood size\n",
    "        \n",
    "    \n",
    "    def is_noise(self, e):\n",
    "        # Your code here\n",
    "        return False\n",
    "\n",
    "    def filter_events(self, events):\n",
    "        kept = []\n",
    "\n",
    "        for e in tqdm(events):\n",
    "            if not self.is_noise(e):\n",
    "                kept.append(e)\n",
    "\n",
    "        if isinstance(events, np.ndarray):\n",
    "            return np.array(kept, dtype=events.dtype)\n",
    "        return kept"
   ]
  },
  {
   "cell_type": "markdown",
   "id": "5bcc25a2",
   "metadata": {},
   "source": [
    "Check results"
   ]
  },
  {
   "cell_type": "code",
   "execution_count": 13,
   "id": "9766762d",
   "metadata": {},
   "outputs": [
    {
     "data": {
      "application/vnd.jupyter.widget-view+json": {
       "model_id": "ed67ae62c9b14fd48894fffe4fdfe734",
       "version_major": 2,
       "version_minor": 0
      },
      "text/plain": [
       "  0%|          | 0/28855004 [00:00<?, ?it/s]"
      ]
     },
     "metadata": {},
     "output_type": "display_data"
    },
    {
     "name": "stdout",
     "output_type": "stream",
     "text": [
      "Filtered out 0 events.\n"
     ]
    }
   ],
   "source": [
    "n_events_before = len(shapes_events)\n",
    "\n",
    "\n",
    "baf_noise_filter = BAFNoiseFilter(size_w=W, size_h=H, delta_t=0.1, N=3)\n",
    "filtered_events = baf_noise_filter.filter_events(shapes_events)\n",
    "\n",
    "n_events_after = len(filtered_events)\n",
    "print(f\"Filtered out {n_events_before - n_events_after} events.\")\n",
    "\n",
    "sliced_events, _ = slicer.slice(filtered_events, 0)\n",
    "\n",
    "fig, update = animate_events(sliced_events, H, W)\n",
    "ani = FuncAnimation(fig, update, frames=len(sliced_events), interval=30)"
   ]
  }
 ],
 "metadata": {
  "kernelspec": {
   "display_name": "event-vision",
   "language": "python",
   "name": "python3"
  },
  "language_info": {
   "codemirror_mode": {
    "name": "ipython",
    "version": 3
   },
   "file_extension": ".py",
   "mimetype": "text/x-python",
   "name": "python",
   "nbconvert_exporter": "python",
   "pygments_lexer": "ipython3",
   "version": "3.13.5"
  }
 },
 "nbformat": 4,
 "nbformat_minor": 5
}
